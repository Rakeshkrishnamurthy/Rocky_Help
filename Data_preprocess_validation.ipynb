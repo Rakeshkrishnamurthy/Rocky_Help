{
  "nbformat": 4,
  "nbformat_minor": 0,
  "metadata": {
    "colab": {
      "provenance": [],
      "authorship_tag": "ABX9TyMl+WMLEQwrAenU2sxCPK0O",
      "include_colab_link": true
    },
    "kernelspec": {
      "name": "python3",
      "display_name": "Python 3"
    },
    "language_info": {
      "name": "python"
    }
  },
  "cells": [
    {
      "cell_type": "markdown",
      "metadata": {
        "id": "view-in-github",
        "colab_type": "text"
      },
      "source": [
        "<a href=\"https://colab.research.google.com/github/Rakeshkrishnamurthy/Rocky_Help/blob/main/Data_preprocess_validation.ipynb\" target=\"_parent\"><img src=\"https://colab.research.google.com/assets/colab-badge.svg\" alt=\"Open In Colab\"/></a>"
      ]
    },
    {
      "cell_type": "markdown",
      "source": [
        "Data Preprocessing"
      ],
      "metadata": {
        "id": "e-p0rxhb5euP"
      }
    },
    {
      "cell_type": "code",
      "execution_count": null,
      "metadata": {
        "id": "dKYSEQm55dej"
      },
      "outputs": [],
      "source": [
        "# Step 1: Data preprocessing - Duplicate and null value handling\n",
        "def data_preprocessing(raw_csv_path, clean_path):\n",
        "    \"\"\"\n",
        "    Performs data preprocessing - handling duplicates and null values.\n",
        "    \"\"\"\n",
        "    data = spark.read.csv(raw_csv_path, header=True, inferSchema=True)  # Read CSV from raw layer\n",
        "    # Handle duplicates and null values\n",
        "    clean_data = data.dropDuplicates().na.drop()\n",
        "    # Save cleaned data\n",
        "    clean_data.write.mode(\"overwrite\").parquet(clean_path)"
      ]
    },
    {
      "cell_type": "markdown",
      "source": [
        "Data validation and Schema Validation"
      ],
      "metadata": {
        "id": "w_MXwBdT5rfm"
      }
    },
    {
      "cell_type": "code",
      "source": [
        "# Step 2: Store cleaned data in staging layer and perform data validation\n",
        "def store_and_validate(staging_path, target_path):\n",
        "    \"\"\"\n",
        "    Stores cleaned data in the staging layer and performs data validation.\n",
        "    \"\"\"\n",
        "    clean_data = spark.read.parquet(clean_path)  # Read cleaned data\n",
        "    # Save data to staging layer\n",
        "    clean_data.write.mode(\"overwrite\").parquet(staging_path)\n",
        "    # Data validation - Count and schema validation\n",
        "    staging_data = spark.read.parquet(staging_path)\n",
        "    assert clean_data.count() == staging_data.count(), \"Data count mismatch\"\n",
        "    assert clean_data.schema == staging_data.schema, \"Schema mismatch\"\n",
        "\n",
        "    # Save data to target layer\n",
        "    staging_data.write.mode(\"overwrite\").parquet(target_path)"
      ],
      "metadata": {
        "id": "m_3fDO7x5wfP"
      },
      "execution_count": null,
      "outputs": []
    },
    {
      "cell_type": "markdown",
      "source": [
        "Incremental_Load"
      ],
      "metadata": {
        "id": "5c39yriA50ta"
      }
    },
    {
      "cell_type": "code",
      "source": [
        "#Get the laste dated data present in Target(raw)\n",
        "\n",
        "def get_last_update_time(target_path):\n",
        "\n",
        "    try:\n",
        "        target_df = spark.read.option(\"header\", \"true\").parquet(target_path)\n",
        "        last_update_time = target_df.agg(max(\"last_updated\")).collect()[0][0]\n",
        "        return last_update_time\n",
        "    except Exception as e:\n",
        "        print(f\"Error getting last update time: {str(e)}\")\n",
        "        return None\n",
        "\n",
        "#Incremental Load and success/failed\n",
        "\n",
        "def incremental_load(spark, source_path, target_path):\n",
        "\n",
        "    # Get the last update time from the target data\n",
        "    last_update_time = get_last_update_time(target_path)\n",
        "\n",
        "    if last_update_time is not None:\n",
        "        # Read data from source CSV\n",
        "        source_df = spark.read.option(\"header\", \"true\").csv(source_path)\n",
        "        # Filter data based on last_update_time\n",
        "        incremental_data = source_df.filter(col(\"last_updated\") > last_update_time)\n",
        "\n",
        "        if incremental_data.count() > 0:\n",
        "            # Write incremental data to target location\n",
        "            incremental_data.write.mode(\"append\").parquet(target_path)\n",
        "            print(\"Incremental load successful.\")\n",
        "        else:\n",
        "            print(\"No new data to load.\")\n",
        "    else:\n",
        "        print(\"Unable to determine last update time. Exiting.\")\n",
        "\n",
        "if __name__ == \"__main__\":\n",
        "    # Initialize Spark session\n",
        "    spark = SparkSession.builder.appName(\"IncrementalLoad\").getOrCreate()\n",
        "\n",
        "    # Set your source and target paths\n",
        "    source_path = \"source/path\"\n",
        "    target_path = \"target/path\"\n",
        "\n",
        "    # Execute incremental load\n",
        "    incremental_load(spark, source_path, target_path)\n",
        "\n",
        "    # Stop Spark session\n",
        "    spark.stop()"
      ],
      "metadata": {
        "id": "fU0R-HUX55SG"
      },
      "execution_count": null,
      "outputs": []
    },
    {
      "cell_type": "markdown",
      "source": [
        "Copy to HDFS"
      ],
      "metadata": {
        "id": "pCIo27e740iv"
      }
    },
    {
      "cell_type": "code",
      "source": [
        "#Copying a local file to HDFS:\n",
        "\n",
        "hadoop fs -copyFromLocal local_file.txt /path/in/hdfs\n",
        "\n",
        "#Copying a local directory to HDFS:\n",
        "hadoop fs -copyFromLocal local_directory /path/in/hdfs\n",
        "\n",
        "#Copying data from HDFS to the local file system:\n",
        "\n",
        "hadoop fs -copyToLocal /path/in/hdfs/local_file.txt local_destination\n",
        "\n"
      ],
      "metadata": {
        "id": "pN-ujwwP4zxV"
      },
      "execution_count": null,
      "outputs": []
    },
    {
      "cell_type": "markdown",
      "source": [
        "Skipping first 2 lines in Hive\n"
      ],
      "metadata": {
        "id": "f6ubMJbj5HqM"
      }
    },
    {
      "cell_type": "code",
      "source": [
        "CREATE TABLE your_table_name (\n",
        "  column1 datatype1,\n",
        "  column2 datatype2,\n",
        "  ...\n",
        ")\n",
        "ROW FORMAT DELIMITED\n",
        "FIELDS TERMINATED BY ','\n",
        "STORED AS TEXTFILE\n",
        "TBLPROPERTIES ('skip.header.line.count'='2');\n"
      ],
      "metadata": {
        "id": "gOZTvj1T5MC3"
      },
      "execution_count": null,
      "outputs": []
    },
    {
      "cell_type": "markdown",
      "source": [
        "Skipping first 2 lines in Pyspark"
      ],
      "metadata": {
        "id": "Z3Bc6axt5VqM"
      }
    },
    {
      "cell_type": "code",
      "source": [
        "df = spark.read.option(\"header\", \"true\").option(\"skipRows\", \"2\").csv(file_path)"
      ],
      "metadata": {
        "id": "w1NFabNU5YmV"
      },
      "execution_count": null,
      "outputs": []
    }
  ]
}